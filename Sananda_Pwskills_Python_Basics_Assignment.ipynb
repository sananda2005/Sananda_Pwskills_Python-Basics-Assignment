{
  "nbformat": 4,
  "nbformat_minor": 0,
  "metadata": {
    "colab": {
      "provenance": [],
      "authorship_tag": "ABX9TyOgMdLU+1xs+S3w4l4Mu1Zg",
      "include_colab_link": true
    },
    "kernelspec": {
      "name": "python3",
      "display_name": "Python 3"
    },
    "language_info": {
      "name": "python"
    }
  },
  "cells": [
    {
      "cell_type": "markdown",
      "metadata": {
        "id": "view-in-github",
        "colab_type": "text"
      },
      "source": [
        "<a href=\"https://colab.research.google.com/github/sananda2005/Sananda_Pwskills_Python-Basics-Assignment/blob/main/Sananda_Pwskills_Python_Basics_Assignment.ipynb\" target=\"_parent\"><img src=\"https://colab.research.google.com/assets/colab-badge.svg\" alt=\"Open In Colab\"/></a>"
      ]
    },
    {
      "cell_type": "markdown",
      "source": [
        "***TOPIC: Python Basics Variable***"
      ],
      "metadata": {
        "id": "KVe02zljS1RF"
      }
    },
    {
      "cell_type": "markdown",
      "source": [
        "1. Declare two variables, `x` and `y`, and assign them integer values.\n",
        "Swap the values of these variables without using any temporary\n",
        "variable."
      ],
      "metadata": {
        "id": "xOfUbX8TP8Jk"
      }
    },
    {
      "cell_type": "code",
      "source": [
        "#declaring two variables and assigning integer values to them.\n",
        "x=2 ; y=3\n",
        "#printing the values assigned indvidually.\n",
        "print(\"Value of x is:\",x)\n",
        "print(\"Value of y is:\",y)\n",
        "#swapping the values in the variables.\n",
        "x=x+y\n",
        "y=x-y\n",
        "x=x-y\n",
        "#printing the values in the variables after swapping.\n",
        "print(\"After swaping value of x is:\",x)\n",
        "print(\"After swaping value of y is:\",y)"
      ],
      "metadata": {
        "colab": {
          "base_uri": "https://localhost:8080/"
        },
        "id": "Lke_3y8fQAoj",
        "outputId": "d0120dc9-892e-4b42-9a43-ddd2e4c45c3b"
      },
      "execution_count": 1,
      "outputs": [
        {
          "output_type": "stream",
          "name": "stdout",
          "text": [
            "Value of x is: 2\n",
            "Value of y is: 3\n",
            "After swaping value of x is: 3\n",
            "After swaping value of y is: 2\n"
          ]
        }
      ]
    },
    {
      "cell_type": "markdown",
      "source": [
        "2. Create a program that calculates the area of a rectangle. Take the\n",
        "length and width as inputs from the user and store them in variables.\n",
        "Calculate and display the area."
      ],
      "metadata": {
        "id": "2ExzlrnaQNsm"
      }
    },
    {
      "cell_type": "code",
      "source": [
        "#taking length and width as inputs from the user.\n",
        "#Length=int(input())\n",
        "#Width=int(input())\n",
        "Length=float(input())\n",
        "Width=float(input())\n",
        "#calculating the area of a rectangle\n",
        "Area=Length*Width\n",
        "#printing the calculated area of the rectangle\n",
        "print(\"The Area of the rectangle is:\",Area)"
      ],
      "metadata": {
        "colab": {
          "base_uri": "https://localhost:8080/"
        },
        "id": "OtvutYtqQYHr",
        "outputId": "9a1e4718-3d8b-4923-986e-2b09accc9a93"
      },
      "execution_count": 2,
      "outputs": [
        {
          "output_type": "stream",
          "name": "stdout",
          "text": [
            "2\n",
            "5\n",
            "The Area of the rectangle is: 10.0\n"
          ]
        }
      ]
    },
    {
      "cell_type": "markdown",
      "source": [
        "3. Write a Python program that converts temperature from Celsius to\n",
        "Fahrenheit. Take the temperature in Celsius as input, store it in a\n",
        "variable, convert it to Fahrenheit, and display the result."
      ],
      "metadata": {
        "id": "Yiufqz6OQgKs"
      }
    },
    {
      "cell_type": "code",
      "source": [
        "#taking the temperature in celsius as input from user\n",
        "Celsius_temp=float(input())\n",
        "C=Celsius_temp\n",
        "#converting the temperature from celsius to fahrenheit\n",
        "Fahrenheit_temp=(C*9/5)+32\n",
        "#printing the converted temperature in fahrenheit\n",
        "print(\"The Fahrenheit temperature is:\",Fahrenheit_temp)"
      ],
      "metadata": {
        "colab": {
          "base_uri": "https://localhost:8080/"
        },
        "id": "4pxX_Dd4QnTZ",
        "outputId": "c2c87998-5254-43fd-bd7a-b9133791c5ad"
      },
      "execution_count": 3,
      "outputs": [
        {
          "output_type": "stream",
          "name": "stdout",
          "text": [
            "29\n",
            "The Fahrenheit temperature is: 84.2\n"
          ]
        }
      ]
    },
    {
      "cell_type": "markdown",
      "source": [
        "***TOPIC: String Based Questions***"
      ],
      "metadata": {
        "id": "xPFWqg-4TBxI"
      }
    },
    {
      "cell_type": "markdown",
      "source": [
        "1.Write a Python program that takes a string as input and prints the\n",
        "length of the string."
      ],
      "metadata": {
        "id": "q3n_Io43TiNI"
      }
    },
    {
      "cell_type": "code",
      "source": [
        "#taking a string as input from user\n",
        "s=str(input())\n",
        "#calculating the length of the string\n",
        "L=len(s)\n",
        "#printing the calculated length of the string\n",
        "print(\"The length of the string is:\",L)"
      ],
      "metadata": {
        "colab": {
          "base_uri": "https://localhost:8080/"
        },
        "id": "odqdG514T2bi",
        "outputId": "b8dffa1d-05a8-412a-e542-6637ca948bb9"
      },
      "execution_count": 4,
      "outputs": [
        {
          "output_type": "stream",
          "name": "stdout",
          "text": [
            "sananda biswas chatterjee\n",
            "The length of the string is: 25\n"
          ]
        }
      ]
    },
    {
      "cell_type": "markdown",
      "source": [
        "2.Create a program that takes a sentence from the user and counts the number of vowels (a, e, i, o, u) in the string."
      ],
      "metadata": {
        "id": "Ksjqz3brUStR"
      }
    },
    {
      "cell_type": "code",
      "source": [
        "#taking a string as input from user\n",
        "s=str(input())\n",
        "#converting the total sentence into lower case\n",
        "s1=s.lower()\n",
        "#counting the vowels\n",
        "a=s1.count(\"a\")\n",
        "e=s1.count(\"e\")\n",
        "i=s1.count(\"i\")\n",
        "o=s1.count(\"o\")\n",
        "u=s1.count(\"u\")\n",
        "#printing the total number of vowels in the sentence\n",
        "print(\"The number of vowels in the string is:\",a+e+i+o+u)\n"
      ],
      "metadata": {
        "colab": {
          "base_uri": "https://localhost:8080/"
        },
        "id": "OubRz5LyUaYN",
        "outputId": "f1fbf2f8-7b8e-4e58-bbda-c9616c8abfd1"
      },
      "execution_count": 8,
      "outputs": [
        {
          "output_type": "stream",
          "name": "stdout",
          "text": [
            "hello all i have a flat belly now\n",
            "The number of vowels in the string is: 10\n"
          ]
        }
      ]
    },
    {
      "cell_type": "markdown",
      "source": [
        "3. Given a string, reverse the order of characters using string slicing and print the reversed string."
      ],
      "metadata": {
        "id": "hl9YsiFqZzGZ"
      }
    },
    {
      "cell_type": "code",
      "source": [
        "#a string is stored in a variable\n",
        "s=\"I LOVE MY COUNTRY INDIA\"\n",
        "#the string is reversed using string slicing\n",
        "reversed_s=s[::-1]\n",
        "#the reversed string is printed\n",
        "print(reversed_s)"
      ],
      "metadata": {
        "colab": {
          "base_uri": "https://localhost:8080/"
        },
        "id": "QLNJ4mXUZ_Ud",
        "outputId": "5b7e4422-4526-4cf9-ddcf-e5f952a78651"
      },
      "execution_count": 9,
      "outputs": [
        {
          "output_type": "stream",
          "name": "stdout",
          "text": [
            "AIDNI YRTNUOC YM EVOL I\n"
          ]
        }
      ]
    },
    {
      "cell_type": "markdown",
      "source": [
        "4. Write a program that takes a string as input and checks if it is a\n",
        "palindrome (reads the same forwards and backwards)."
      ],
      "metadata": {
        "id": "jfDyRwwic55H"
      }
    },
    {
      "cell_type": "code",
      "source": [
        "#a string is taken as input from user\n",
        "s=str(input())\n",
        "#converting the string into lower case\n",
        "s1=s.lower()\n",
        "#using string slicing checking wheather the string is a plaindrome or not.\n",
        "if s1==s1[::-1]:\n",
        "  print(\"The string is a palindrome\")\n",
        "else:\n",
        "  print(\"The string is not a palindrome\")"
      ],
      "metadata": {
        "id": "I38HG8lidA3b",
        "colab": {
          "base_uri": "https://localhost:8080/"
        },
        "outputId": "49cac8e3-45dc-4c64-da33-2d563dd74689"
      },
      "execution_count": 10,
      "outputs": [
        {
          "output_type": "stream",
          "name": "stdout",
          "text": [
            "madam\n",
            "The string is a palindrome\n"
          ]
        }
      ]
    },
    {
      "cell_type": "markdown",
      "source": [
        "5. Create a program that takes a string as input and removes all the\n",
        "spaces from it. Print the modified string without spaces."
      ],
      "metadata": {
        "id": "Q8uyQt9zdxjz"
      }
    },
    {
      "cell_type": "code",
      "source": [
        "#a string is taken as input from user\n",
        "s=str(input())\n",
        "#all the spaces are being removed\n",
        "s1=s.replace(\" \",\"\")\n",
        "#the modified string without spaces is printed\n",
        "print(\"The modified string without space is:\",s1)"
      ],
      "metadata": {
        "colab": {
          "base_uri": "https://localhost:8080/"
        },
        "id": "2ni0OFVXRo6I",
        "outputId": "cdaa2cdf-87a4-465a-d63b-1d7ea99323c3"
      },
      "execution_count": 11,
      "outputs": [
        {
          "output_type": "stream",
          "name": "stdout",
          "text": [
            "today i am very happy\n",
            "The modified string without space is: todayiamveryhappy\n"
          ]
        }
      ]
    }
  ]
}